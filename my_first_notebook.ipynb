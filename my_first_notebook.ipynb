{
 "cells": [
  {
   "cell_type": "markdown",
   "id": "8e9cbcb7",
   "metadata": {},
   "source": [
    "#Why is markdown useful\n",
    "- shorthand for HTML\n",
    "write markdown cells above our python code\n",
    "\n"
   ]
  },
  {
   "cell_type": "code",
   "execution_count": 1,
   "id": "aaf69049",
   "metadata": {},
   "outputs": [
    {
     "name": "stdout",
     "output_type": "stream",
     "text": [
      "Hi everybody!\n"
     ]
    }
   ],
   "source": [
    "greeting = 'Hi everybody!'\n",
    "print(greeting)"
   ]
  },
  {
   "cell_type": "code",
   "execution_count": 1,
   "id": "23c51abe",
   "metadata": {},
   "outputs": [
    {
     "data": {
      "text/plain": [
       "True"
      ]
     },
     "execution_count": 1,
     "metadata": {},
     "output_type": "execute_result"
    }
   ],
   "source": [
    "True"
   ]
  },
  {
   "cell_type": "code",
   "execution_count": 2,
   "id": "bce327a9",
   "metadata": {},
   "outputs": [
    {
     "data": {
      "text/plain": [
       "False"
      ]
     },
     "execution_count": 2,
     "metadata": {},
     "output_type": "execute_result"
    }
   ],
   "source": [
    "False"
   ]
  },
  {
   "cell_type": "code",
   "execution_count": 3,
   "id": "004ceac9",
   "metadata": {},
   "outputs": [
    {
     "name": "stdout",
     "output_type": "stream",
     "text": [
      "True\n"
     ]
    }
   ],
   "source": [
    "print(\"True\")"
   ]
  },
  {
   "cell_type": "code",
   "execution_count": 5,
   "id": "aa79010f",
   "metadata": {},
   "outputs": [
    {
     "data": {
      "text/plain": [
       "1.99"
      ]
     },
     "execution_count": 5,
     "metadata": {},
     "output_type": "execute_result"
    }
   ],
   "source": [
    "total = 0\n",
    "total += 1.99 # '+=' is an operator\n",
    "total"
   ]
  },
  {
   "cell_type": "code",
   "execution_count": 7,
   "id": "68114375",
   "metadata": {},
   "outputs": [
    {
     "data": {
      "text/plain": [
       "True"
      ]
     },
     "execution_count": 7,
     "metadata": {},
     "output_type": "execute_result"
    }
   ],
   "source": [
    "3 not in [5, 6, 7] # Boolean"
   ]
  },
  {
   "cell_type": "code",
   "execution_count": 11,
   "id": "5b456d15",
   "metadata": {},
   "outputs": [
    {
     "data": {
      "text/html": [
       "<div>\n",
       "<style scoped>\n",
       "    .dataframe tbody tr th:only-of-type {\n",
       "        vertical-align: middle;\n",
       "    }\n",
       "\n",
       "    .dataframe tbody tr th {\n",
       "        vertical-align: top;\n",
       "    }\n",
       "\n",
       "    .dataframe thead th {\n",
       "        text-align: right;\n",
       "    }\n",
       "</style>\n",
       "<table border=\"1\" class=\"dataframe\">\n",
       "  <thead>\n",
       "    <tr style=\"text-align: right;\">\n",
       "      <th></th>\n",
       "      <th>total_bill</th>\n",
       "      <th>tip</th>\n",
       "      <th>sex</th>\n",
       "      <th>smoker</th>\n",
       "      <th>day</th>\n",
       "      <th>time</th>\n",
       "      <th>size</th>\n",
       "    </tr>\n",
       "  </thead>\n",
       "  <tbody>\n",
       "    <tr>\n",
       "      <th>1</th>\n",
       "      <td>16.99</td>\n",
       "      <td>1.01</td>\n",
       "      <td>Female</td>\n",
       "      <td>No</td>\n",
       "      <td>Sun</td>\n",
       "      <td>Dinner</td>\n",
       "      <td>2</td>\n",
       "    </tr>\n",
       "    <tr>\n",
       "      <th>2</th>\n",
       "      <td>10.34</td>\n",
       "      <td>1.66</td>\n",
       "      <td>Male</td>\n",
       "      <td>No</td>\n",
       "      <td>Sun</td>\n",
       "      <td>Dinner</td>\n",
       "      <td>3</td>\n",
       "    </tr>\n",
       "    <tr>\n",
       "      <th>3</th>\n",
       "      <td>21.01</td>\n",
       "      <td>3.50</td>\n",
       "      <td>Male</td>\n",
       "      <td>No</td>\n",
       "      <td>Sun</td>\n",
       "      <td>Dinner</td>\n",
       "      <td>3</td>\n",
       "    </tr>\n",
       "    <tr>\n",
       "      <th>4</th>\n",
       "      <td>23.68</td>\n",
       "      <td>3.31</td>\n",
       "      <td>Male</td>\n",
       "      <td>No</td>\n",
       "      <td>Sun</td>\n",
       "      <td>Dinner</td>\n",
       "      <td>2</td>\n",
       "    </tr>\n",
       "    <tr>\n",
       "      <th>5</th>\n",
       "      <td>24.59</td>\n",
       "      <td>3.61</td>\n",
       "      <td>Female</td>\n",
       "      <td>No</td>\n",
       "      <td>Sun</td>\n",
       "      <td>Dinner</td>\n",
       "      <td>4</td>\n",
       "    </tr>\n",
       "  </tbody>\n",
       "</table>\n",
       "</div>"
      ],
      "text/plain": [
       "   total_bill   tip     sex smoker  day    time  size\n",
       "1       16.99  1.01  Female     No  Sun  Dinner     2\n",
       "2       10.34  1.66    Male     No  Sun  Dinner     3\n",
       "3       21.01  3.50    Male     No  Sun  Dinner     3\n",
       "4       23.68  3.31    Male     No  Sun  Dinner     2\n",
       "5       24.59  3.61  Female     No  Sun  Dinner     4"
      ]
     },
     "execution_count": 11,
     "metadata": {},
     "output_type": "execute_result"
    }
   ],
   "source": [
    "from pydataset import data\n",
    "df = data(\"tips\")\n",
    "df.head()"
   ]
  },
  {
   "cell_type": "markdown",
   "id": "283a4c80",
   "metadata": {},
   "source": [
    "### logical operators\n",
    "- not: switches the boolean value\n",
    "- and: makes sure both pieces are true (limiting)\n",
    "- or: making sure at least one piece is true (expanding)"
   ]
  },
  {
   "cell_type": "markdown",
   "id": "dbae4f19",
   "metadata": {},
   "source": [
    "### mathematical operators\n",
    "- modulo: 5%2 = 1 >> five divided by two leaves one\n",
    "- floor (quotient): 2//3 = 1 >> two divides into three once, fully"
   ]
  },
  {
   "cell_type": "markdown",
   "id": "3d35f41c",
   "metadata": {},
   "source": [
    "### strings\n",
    "- if we need a string that contains characters including (\") or ('), use \n",
    "- (\"\"\"...\"\"\")\n",
    "- or docstring\n",
    "- string + ? will give us information about the string\n",
    "    e.g. is_even?"
   ]
  },
  {
   "cell_type": "markdown",
   "id": "f3c6d950",
   "metadata": {},
   "source": [
    "## String Operations\n",
    "-formatted strings\n",
    "'Hello %s!'\n",
    "'Hello {}!' . format(name)\n",
    "f'Hello {name}!', \n",
    "f'Hello {str(number)}'\n",
    "\n",
    "- functions: lower()\n",
    "- methods: .lower >> string.method >> name.lower()"
   ]
  },
  {
   "cell_type": "markdown",
   "id": "5bc5c74a",
   "metadata": {},
   "source": [
    "## List Comprehensions\n",
    "\n",
    "- ['box' for each number in range(7)]\n",
    "\n",
    "- vs: storage_box = []\n",
    "        for each number in [1, 2, 3, 4, 5, 6, 7]\n",
    "        storage_box.append('box')"
   ]
  },
  {
   "cell_type": "markdown",
   "id": "5002d13b",
   "metadata": {},
   "source": [
    "## List Operations\n",
    "-slicing\n",
    "-list[0][1] for the accessing the second elemnt in the sub-list"
   ]
  },
  {
   "cell_type": "markdown",
   "id": "b2b0bb75",
   "metadata": {},
   "source": [
    "## Dictionaries\n",
    "- my_dict{'users': ['Bob', 'Adam', 'Sally'], 'roles':['Admin', 'Reviewer', 'Comment']\n",
    "- users, and roles are the key values\n",
    "- the users and the roles are the data values\n",
    "- nested_dict = {fruit_shops': {'location': ['NE', 'NW', 'SW', 'SE'], 'manager': ['Bob', 'Sally', 'Steve', 'Jim'], 'revenue': {'daily': [1221, 1234, 12223, 1334]}}, 'bike_shops': 'None'}\n",
    "- len(nested_dict) = 2 >> looks at the highest level of lists\n",
    "access nested dict:\n",
    "        nested_dict:['fruit_shops']['revenue']['daily']\n",
    "access nested dict keys:\n",
    "        nested_dict:['fruit_shops'].keys()"
   ]
  }
 ],
 "metadata": {
  "kernelspec": {
   "display_name": "Python 3 (ipykernel)",
   "language": "python",
   "name": "python3"
  },
  "language_info": {
   "codemirror_mode": {
    "name": "ipython",
    "version": 3
   },
   "file_extension": ".py",
   "mimetype": "text/x-python",
   "name": "python",
   "nbconvert_exporter": "python",
   "pygments_lexer": "ipython3",
   "version": "3.9.7"
  }
 },
 "nbformat": 4,
 "nbformat_minor": 5
}
