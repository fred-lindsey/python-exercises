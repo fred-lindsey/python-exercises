{
 "cells": [
  {
   "cell_type": "markdown",
   "metadata": {},
   "source": [
    "Conditional - allows us to execute code conditionally\n",
    "\n",
    "loops - execute code repeatedly"
   ]
  },
  {
   "cell_type": "code",
   "execution_count": 6,
   "metadata": {},
   "outputs": [
    {
     "name": "stdout",
     "output_type": "stream",
     "text": [
      "Then number is even\n",
      "Greetings\n",
      "Complete\n"
     ]
    }
   ],
   "source": [
    "x = 6\n",
    "\n",
    "r = x % 2\n",
    "\n",
    "if r == 0:\n",
    "    print('Then number is even')\n",
    "    print('Greetings')\n",
    "\n",
    "print('Complete')\n"
   ]
  },
  {
   "cell_type": "code",
   "execution_count": 7,
   "metadata": {},
   "outputs": [
    {
     "name": "stdout",
     "output_type": "stream",
     "text": [
      "r is even\n",
      "Greater than 2\n",
      "Complete\n"
     ]
    }
   ],
   "source": [
    "x = 6\n",
    "\n",
    "r = x % 2\n",
    "\n",
    "\n",
    "if r == 0:\n",
    "    print('r is even')\n",
    "    if x > 2:\n",
    "        print('Greater than 2')\n",
    "    else:\n",
    "        print('<= 2')\n",
    "else:\n",
    "    print('r is odd')\n",
    "\n",
    "print('Complete')"
   ]
  },
  {
   "cell_type": "code",
   "execution_count": 11,
   "metadata": {},
   "outputs": [
    {
     "name": "stdout",
     "output_type": "stream",
     "text": [
      "hurray\n"
     ]
    }
   ],
   "source": [
    "x = 6\n",
    "\n",
    "if x == 1:\n",
    "    print('ONE')\n",
    "if x == 2:\n",
    "    print('TWO')\n",
    "elif x == 3: ## use ELIF to evaluate multiple conditions, then halt at the correct output\n",
    "    print('THREE')\n",
    "else:\n",
    "    print('hurray')"
   ]
  },
  {
   "cell_type": "code",
   "execution_count": 13,
   "metadata": {},
   "outputs": [
    {
     "name": "stdout",
     "output_type": "stream",
     "text": [
      "2\n",
      "4\n",
      "6\n",
      "8\n",
      "10\n",
      "12\n"
     ]
    }
   ],
   "source": [
    "# for loops, while loops\n",
    "l = [1, 2, 3, 4, 5, 6]\n",
    "\n",
    "for num in l:\n",
    "    print(num * 2)"
   ]
  },
  {
   "cell_type": "code",
   "execution_count": 17,
   "metadata": {},
   "outputs": [
    {
     "data": {
      "text/plain": [
       "[1, 2, 3, 4, 5, 6, 7, 8, 9, 10, 11, 12, 13, 14, 15, 16, 17, 18, 19, 20]"
      ]
     },
     "execution_count": 17,
     "metadata": {},
     "output_type": "execute_result"
    }
   ],
   "source": [
    "list(range(1, 21))"
   ]
  },
  {
   "cell_type": "code",
   "execution_count": 19,
   "metadata": {},
   "outputs": [
    {
     "name": "stdout",
     "output_type": "stream",
     "text": [
      "0 this is an even number\n",
      "8 this is an even number\n",
      "16 this is an even number\n"
     ]
    }
   ],
   "source": [
    "for num in range(21):\n",
    "    if num % 8 == 0:\n",
    "        print(num, \"this is an even number\")\n"
   ]
  },
  {
   "cell_type": "code",
   "execution_count": 20,
   "metadata": {},
   "outputs": [
    {
     "data": {
      "text/plain": [
       "[4, 16, 36, 64, 100]"
      ]
     },
     "execution_count": 20,
     "metadata": {},
     "output_type": "execute_result"
    }
   ],
   "source": [
    "l = []\n",
    "for num in range(1, 11):\n",
    "    if num % 2 == 0:\n",
    "        l.append(num **2)\n",
    "\n",
    "# comprehension way\n",
    "[num ** 2 for num in range(1, 11) if num % 2 == 0]"
   ]
  },
  {
   "cell_type": "code",
   "execution_count": 22,
   "metadata": {},
   "outputs": [
    {
     "name": "stdout",
     "output_type": "stream",
     "text": [
      "1\n",
      "3\n",
      "5\n",
      "7\n",
      "9\n"
     ]
    }
   ],
   "source": [
    "# While Loop\n",
    "i = 1\n",
    "\n",
    "while i < 10:\n",
    "    print(i)\n",
    "    i = i + 2"
   ]
  }
 ],
 "metadata": {
  "interpreter": {
   "hash": "38cca0c38332a56087b24af0bc80247f4fced29cb4f7f437d91dc159adec9c4e"
  },
  "kernelspec": {
   "display_name": "Python 3.9.7 ('base')",
   "language": "python",
   "name": "python3"
  },
  "language_info": {
   "codemirror_mode": {
    "name": "ipython",
    "version": 3
   },
   "file_extension": ".py",
   "mimetype": "text/x-python",
   "name": "python",
   "nbconvert_exporter": "python",
   "pygments_lexer": "ipython3",
   "version": "3.9.7"
  },
  "orig_nbformat": 4
 },
 "nbformat": 4,
 "nbformat_minor": 2
}
