{
 "cells": [
  {
   "cell_type": "markdown",
   "metadata": {},
   "source": [
    "Conditional - allows us to execute code conditionally\n",
    "\n",
    "loops - execute code repeatedly"
   ]
  },
  {
   "cell_type": "code",
   "execution_count": 6,
   "metadata": {},
   "outputs": [
    {
     "name": "stdout",
     "output_type": "stream",
     "text": [
      "Then number is even\n",
      "Greetings\n",
      "Complete\n"
     ]
    }
   ],
   "source": [
    "x = 6\n",
    "\n",
    "r = x % 2\n",
    "\n",
    "if r == 0:\n",
    "    print('Then number is even')\n",
    "    print('Greetings')\n",
    "\n",
    "print('Complete')\n"
   ]
  },
  {
   "cell_type": "code",
   "execution_count": 7,
   "metadata": {},
   "outputs": [
    {
     "name": "stdout",
     "output_type": "stream",
     "text": [
      "r is even\n",
      "Greater than 2\n",
      "Complete\n"
     ]
    }
   ],
   "source": [
    "x = 6\n",
    "\n",
    "r = x % 2\n",
    "\n",
    "\n",
    "if r == 0:\n",
    "    print('r is even')\n",
    "    if x > 2:\n",
    "        print('Greater than 2')\n",
    "    else:\n",
    "        print('<= 2')\n",
    "else:\n",
    "    print('r is odd')\n",
    "\n",
    "print('Complete')"
   ]
  },
  {
   "cell_type": "code",
   "execution_count": 11,
   "metadata": {},
   "outputs": [
    {
     "name": "stdout",
     "output_type": "stream",
     "text": [
      "hurray\n"
     ]
    }
   ],
   "source": [
    "x = 6\n",
    "\n",
    "if x == 1:\n",
    "    print('ONE')\n",
    "if x == 2:\n",
    "    print('TWO')\n",
    "elif x == 3: ## use ELIF to evaluate multiple conditions, then halt at the correct output\n",
    "    print('THREE')\n",
    "else:\n",
    "    print('hurray')"
   ]
  }
 ],
 "metadata": {
  "interpreter": {
   "hash": "38cca0c38332a56087b24af0bc80247f4fced29cb4f7f437d91dc159adec9c4e"
  },
  "kernelspec": {
   "display_name": "Python 3.9.7 ('base')",
   "language": "python",
   "name": "python3"
  },
  "language_info": {
   "codemirror_mode": {
    "name": "ipython",
    "version": 3
   },
   "file_extension": ".py",
   "mimetype": "text/x-python",
   "name": "python",
   "nbconvert_exporter": "python",
   "pygments_lexer": "ipython3",
   "version": "3.9.7"
  },
  "orig_nbformat": 4
 },
 "nbformat": 4,
 "nbformat_minor": 2
}
