{
 "cells": [
  {
   "cell_type": "markdown",
   "id": "b0fc0c44",
   "metadata": {},
   "source": [
    "## Function structure\n",
    "- calling a function with one argument >> a list of numbers: "
   ]
  },
  {
   "cell_type": "code",
   "execution_count": 1,
   "id": "471ff766",
   "metadata": {},
   "outputs": [
    {
     "data": {
      "text/plain": [
       "4"
      ]
     },
     "execution_count": 1,
     "metadata": {},
     "output_type": "execute_result"
    }
   ],
   "source": [
    "max([4, 3, 2, 1])"
   ]
  },
  {
   "cell_type": "code",
   "execution_count": 5,
   "id": "55170732",
   "metadata": {},
   "outputs": [],
   "source": [
    "maximum_number = max([4, 3, 2, 1])"
   ]
  },
  {
   "cell_type": "code",
   "execution_count": 6,
   "id": "89c98ed6",
   "metadata": {},
   "outputs": [
    {
     "name": "stdout",
     "output_type": "stream",
     "text": [
      "4\n"
     ]
    }
   ],
   "source": [
    "print(maximum_number)"
   ]
  },
  {
   "cell_type": "markdown",
   "id": "a96089bf",
   "metadata": {},
   "source": [
    "## Defining functions"
   ]
  },
  {
   "cell_type": "code",
   "execution_count": 7,
   "id": "84e9e7ac",
   "metadata": {},
   "outputs": [],
   "source": [
    "def increment(n):\n",
    "    return n + 1"
   ]
  },
  {
   "cell_type": "code",
   "execution_count": 8,
   "id": "7776fa03",
   "metadata": {},
   "outputs": [
    {
     "name": "stdout",
     "output_type": "stream",
     "text": [
      "4\n"
     ]
    }
   ],
   "source": [
    "four = increment(3)\n",
    "print(four)"
   ]
  },
  {
   "cell_type": "code",
   "execution_count": 10,
   "id": "31e8d6f9",
   "metadata": {},
   "outputs": [
    {
     "name": "stdout",
     "output_type": "stream",
     "text": [
      "6\n"
     ]
    }
   ],
   "source": [
    "six = increment(increment(increment(3)))\n",
    "print(six)"
   ]
  },
  {
   "cell_type": "code",
   "execution_count": 13,
   "id": "05ad8af0",
   "metadata": {},
   "outputs": [
    {
     "name": "stdout",
     "output_type": "stream",
     "text": [
      "6\n",
      "6\n"
     ]
    }
   ],
   "source": [
    "value = increment(3)\n",
    "value = increment(value)\n",
    "value = increment(value)\n",
    "print(value) ##both are nested functions\n",
    "print(six)"
   ]
  },
  {
   "cell_type": "markdown",
   "id": "8d6d8768",
   "metadata": {},
   "source": [
    "The first line is evaluated \"inside-out\", that is:\n",
    "\n",
    "The increment function is called with the integer literal 3\n",
    "The output of the first call to the increment() function is passed as an argument again to the increment() function. At this point, we are calling increment() with 4\n",
    "The output from the previous step is again passed in to the increment() function.\n",
    "Finally, the output from the last call to the increment() function is assigned to the variable six\n"
   ]
  },
  {
   "cell_type": "code",
   "execution_count": 17,
   "id": "4cefbd56",
   "metadata": {},
   "outputs": [],
   "source": [
    "def bad_increment(n):\n",
    "    n + 1"
   ]
  },
  {
   "cell_type": "code",
   "execution_count": 18,
   "id": "3055983b",
   "metadata": {},
   "outputs": [
    {
     "name": "stdout",
     "output_type": "stream",
     "text": [
      "None\n"
     ]
    }
   ],
   "source": [
    "print(bad_increment(1))"
   ]
  },
  {
   "cell_type": "code",
   "execution_count": 20,
   "id": "c51d0c17",
   "metadata": {},
   "outputs": [
    {
     "data": {
      "text/plain": [
       "4"
      ]
     },
     "execution_count": 20,
     "metadata": {},
     "output_type": "execute_result"
    }
   ],
   "source": [
    "def increment(n):\n",
    "    return n + 1\n",
    "    print('you will never see this')\n",
    "    return n + 1\n",
    "\n",
    "increment(3)"
   ]
  },
  {
   "cell_type": "code",
   "execution_count": 21,
   "id": "bf92048d",
   "metadata": {},
   "outputs": [
    {
     "ename": "NameError",
     "evalue": "name 'odd' is not defined",
     "output_type": "error",
     "traceback": [
      "\u001b[0;31m---------------------------------------------------------------------------\u001b[0m",
      "\u001b[0;31mNameError\u001b[0m                                 Traceback (most recent call last)",
      "\u001b[0;32m/var/folders/3n/86q7c8d16r51w8vg4g5kwq280000gn/T/ipykernel_97390/808354009.py\u001b[0m in \u001b[0;36m<module>\u001b[0;34m\u001b[0m\n\u001b[1;32m      5\u001b[0m         \u001b[0;32mreturn\u001b[0m \u001b[0modd\u001b[0m\u001b[0;34m\u001b[0m\u001b[0;34m\u001b[0m\u001b[0m\n\u001b[1;32m      6\u001b[0m \u001b[0;34m\u001b[0m\u001b[0m\n\u001b[0;32m----> 7\u001b[0;31m \u001b[0mprint\u001b[0m\u001b[0;34m(\u001b[0m\u001b[0mdeclare_even_odd\u001b[0m\u001b[0;34m(\u001b[0m\u001b[0;36m7\u001b[0m\u001b[0;34m)\u001b[0m\u001b[0;34m)\u001b[0m\u001b[0;34m\u001b[0m\u001b[0;34m\u001b[0m\u001b[0m\n\u001b[0m",
      "\u001b[0;32m/var/folders/3n/86q7c8d16r51w8vg4g5kwq280000gn/T/ipykernel_97390/808354009.py\u001b[0m in \u001b[0;36mdeclare_even_odd\u001b[0;34m(n)\u001b[0m\n\u001b[1;32m      3\u001b[0m         \u001b[0;32mreturn\u001b[0m \u001b[0meven\u001b[0m\u001b[0;34m\u001b[0m\u001b[0;34m\u001b[0m\u001b[0m\n\u001b[1;32m      4\u001b[0m     \u001b[0;32melse\u001b[0m\u001b[0;34m:\u001b[0m\u001b[0;34m\u001b[0m\u001b[0;34m\u001b[0m\u001b[0m\n\u001b[0;32m----> 5\u001b[0;31m         \u001b[0;32mreturn\u001b[0m \u001b[0modd\u001b[0m\u001b[0;34m\u001b[0m\u001b[0;34m\u001b[0m\u001b[0m\n\u001b[0m\u001b[1;32m      6\u001b[0m \u001b[0;34m\u001b[0m\u001b[0m\n\u001b[1;32m      7\u001b[0m \u001b[0mprint\u001b[0m\u001b[0;34m(\u001b[0m\u001b[0mdeclare_even_odd\u001b[0m\u001b[0;34m(\u001b[0m\u001b[0;36m7\u001b[0m\u001b[0;34m)\u001b[0m\u001b[0;34m)\u001b[0m\u001b[0;34m\u001b[0m\u001b[0;34m\u001b[0m\u001b[0m\n",
      "\u001b[0;31mNameError\u001b[0m: name 'odd' is not defined"
     ]
    }
   ],
   "source": [
    "def declare_even_odd(n):\n",
    "    if n % 2 == 0:\n",
    "        return even\n",
    "    else:\n",
    "        return odd\n",
    "    \n",
    "print(declare_even_odd(7))"
   ]
  },
  {
   "cell_type": "markdown",
   "id": "222486ff",
   "metadata": {},
   "source": [
    "## Arguments and Parameters:\n",
    "- arguments: the value a function is called with\n",
    "- parameters: part of the fucntion definition, placeholder for an argument"
   ]
  },
  {
   "cell_type": "code",
   "execution_count": 23,
   "id": "56f3eb17",
   "metadata": {},
   "outputs": [
    {
     "name": "stdout",
     "output_type": "stream",
     "text": [
      "7\n"
     ]
    }
   ],
   "source": [
    "def add(a, b):\n",
    "    result = a + b\n",
    "    return result\n",
    "\n",
    "x = 3\n",
    "seven = add(x, 4)\n",
    "print(seven)"
   ]
  },
  {
   "cell_type": "code",
   "execution_count": 24,
   "id": "98b7dd6f",
   "metadata": {},
   "outputs": [],
   "source": [
    "def shout(message):\n",
    "    print(message.upper() + '!!!')"
   ]
  },
  {
   "cell_type": "code",
   "execution_count": 25,
   "id": "62e98102",
   "metadata": {},
   "outputs": [
    {
     "name": "stdout",
     "output_type": "stream",
     "text": [
      "HEY THERE!!!\n"
     ]
    }
   ],
   "source": [
    "return_value = shout('hey there')"
   ]
  },
  {
   "cell_type": "code",
   "execution_count": 26,
   "id": "22801a48",
   "metadata": {},
   "outputs": [
    {
     "name": "stdout",
     "output_type": "stream",
     "text": [
      "None\n"
     ]
    }
   ],
   "source": [
    "print(return_value) #shout needs a return statement so that it creates a\n",
    "                    # stored variable"
   ]
  },
  {
   "cell_type": "markdown",
   "id": "9d6f9e54",
   "metadata": {},
   "source": [
    "## Default Values\n",
    "- functions can define default values for parameters, which allows you to either specify the argument or leave it out when the fucntion is called."
   ]
  },
  {
   "cell_type": "code",
   "execution_count": 27,
   "id": "64803398",
   "metadata": {},
   "outputs": [],
   "source": [
    "def say_hello(name='World', greeting='Hello'):\n",
    "    return'{}, {}!'.format(greeting, name)"
   ]
  },
  {
   "cell_type": "code",
   "execution_count": 29,
   "id": "206e0cf3",
   "metadata": {},
   "outputs": [
    {
     "data": {
      "text/plain": [
       "'Hello, World!'"
      ]
     },
     "execution_count": 29,
     "metadata": {},
     "output_type": "execute_result"
    }
   ],
   "source": [
    "say_hello()"
   ]
  },
  {
   "cell_type": "code",
   "execution_count": 30,
   "id": "1011705c",
   "metadata": {},
   "outputs": [
    {
     "data": {
      "text/plain": [
       "'Hello, CodeUp!'"
      ]
     },
     "execution_count": 30,
     "metadata": {},
     "output_type": "execute_result"
    }
   ],
   "source": [
    "say_hello('CodeUp')"
   ]
  },
  {
   "cell_type": "markdown",
   "id": "095b7b67",
   "metadata": {},
   "source": [
    "## Keyword Arguments\n",
    "- we can also specify arguments by name"
   ]
  },
  {
   "cell_type": "code",
   "execution_count": 31,
   "id": "332c2169",
   "metadata": {},
   "outputs": [
    {
     "data": {
      "text/plain": [
       "'Salutations, CodeUp!'"
      ]
     },
     "execution_count": 31,
     "metadata": {},
     "output_type": "execute_result"
    }
   ],
   "source": [
    "say_hello(greeting='Salutations', name='CodeUp')"
   ]
  },
  {
   "cell_type": "markdown",
   "id": "d9d0af47",
   "metadata": {},
   "source": [
    "-Only restriction is that keyword arguments must come after postional arguments"
   ]
  },
  {
   "cell_type": "markdown",
   "id": "e54989e4",
   "metadata": {},
   "source": [
    "## Calling Functions"
   ]
  },
  {
   "cell_type": "code",
   "execution_count": 32,
   "id": "778614b2",
   "metadata": {},
   "outputs": [
    {
     "data": {
      "text/plain": [
       "'Salutations, CodeUp!'"
      ]
     },
     "execution_count": 32,
     "metadata": {},
     "output_type": "execute_result"
    }
   ],
   "source": [
    "args = ['CodeUp', 'Salutations']\n",
    "say_hello(*args) #multiple arguments at once, selects all"
   ]
  },
  {
   "cell_type": "markdown",
   "id": "1de297a5",
   "metadata": {},
   "source": [
    "- kwargs: key word arguments"
   ]
  },
  {
   "cell_type": "code",
   "execution_count": 33,
   "id": "61b433eb",
   "metadata": {},
   "outputs": [
    {
     "data": {
      "text/plain": [
       "'Salutations, Codeup!'"
      ]
     },
     "execution_count": 33,
     "metadata": {},
     "output_type": "execute_result"
    }
   ],
   "source": [
    "kwargs = {'greeting': 'Salutations', 'name': 'Codeup'}\n",
    "say_hello(**kwargs)"
   ]
  },
  {
   "cell_type": "markdown",
   "id": "2b2faf67",
   "metadata": {},
   "source": [
    "-commonly used for nested functions"
   ]
  },
  {
   "cell_type": "markdown",
   "id": "a2d14153",
   "metadata": {},
   "source": [
    "## Function Scope\n",
    "- describes where a variable can be referenced. In scope: can reference. Out of scope, can't reference.\n",
    "- local variables are inside of a function and stored locally\n",
    "- global variables are accessible inside any function\n",
    "- w/in a function, the local variable takes precedence"
   ]
  },
  {
   "cell_type": "code",
   "execution_count": 35,
   "id": "4c3127c6",
   "metadata": {},
   "outputs": [],
   "source": [
    "a_global_variable = 42"
   ]
  },
  {
   "cell_type": "code",
   "execution_count": 37,
   "id": "ddd1374c",
   "metadata": {},
   "outputs": [],
   "source": [
    "def some_function():\n",
    "    print('Inside the function: %s' % a_global_variable)"
   ]
  },
  {
   "cell_type": "code",
   "execution_count": 49,
   "id": "d0b4a1f8",
   "metadata": {},
   "outputs": [],
   "source": [
    "n = 123"
   ]
  },
  {
   "cell_type": "code",
   "execution_count": 50,
   "id": "ab56faa6",
   "metadata": {},
   "outputs": [
    {
     "name": "stdout",
     "output_type": "stream",
     "text": [
      "inside the function, n == {n}\n"
     ]
    }
   ],
   "source": [
    "def somefunction():\n",
    "    n = 10\n",
    "    n = n-3\n",
    "print(\"inside the function, n == {n}\")"
   ]
  },
  {
   "cell_type": "code",
   "execution_count": 45,
   "id": "2e1ba137",
   "metadata": {},
   "outputs": [
    {
     "name": "stdout",
     "output_type": "stream",
     "text": [
      "Outside the function, n == {n}\n"
     ]
    }
   ],
   "source": [
    "print('Outside the function, n == {n}')"
   ]
  },
  {
   "cell_type": "code",
   "execution_count": 46,
   "id": "10f3c675",
   "metadata": {},
   "outputs": [],
   "source": [
    "for i in range(10):\n",
    "    n += 1\n",
    "\n",
    "print('After for-loop, n')"
   ]
  },
  {
   "cell_type": "markdown",
   "id": "899c78fd",
   "metadata": {},
   "source": [
    "## Lambda Functions\n",
    "- takes in 0 or more argument, returns a single return statement"
   ]
  },
  {
   "cell_type": "code",
   "execution_count": null,
   "id": "a3cdd153",
   "metadata": {},
   "outputs": [],
   "source": [
    "add_one = lambda n: n + 1\n",
    "add_one(9)"
   ]
  },
  {
   "cell_type": "code",
   "execution_count": 74,
   "id": "a3f6fddb",
   "metadata": {},
   "outputs": [
    {
     "name": "stdout",
     "output_type": "stream",
     "text": [
      "B\n"
     ]
    }
   ],
   "source": [
    "num = 87\n",
    "def get_letter_grade(num):\n",
    "    if 100 >= num > 89:\n",
    "        return 'A'\n",
    "    elif 89 >= num > 79:\n",
    "        return 'B'\n",
    "    elif 79 >= num > 69:\n",
    "        return 'C'\n",
    "    elif 69 >= num > 59:\n",
    "        return 'D'\n",
    "    else:\n",
    "        return 'F'\n",
    "print(get_letter_grade(num))"
   ]
  },
  {
   "cell_type": "code",
   "execution_count": 60,
   "id": "d371398d",
   "metadata": {},
   "outputs": [
    {
     "name": "stdout",
     "output_type": "stream",
     "text": [
      "80.0\n"
     ]
    }
   ],
   "source": [
    "original_price = 100\n",
    "discount_pct = 20\n",
    "def apply_discount(original_price):\n",
    "    return original_price * ((100 - discount_pct)/100)\n",
    "\n",
    "print(apply_discount(100))"
   ]
  },
  {
   "cell_type": "code",
   "execution_count": 95,
   "id": "989d48c9",
   "metadata": {},
   "outputs": [
    {
     "name": "stdout",
     "output_type": "stream",
     "text": [
      "lbb\n"
     ]
    }
   ],
   "source": [
    "input = ('Alibaba')\n",
    "\n",
    "def remove_vowels(input):\n",
    "    vowels = ('a', 'e', 'i', 'o', 'u')    #specify values to remove\n",
    "    for letter in input:\n",
    "        if letter.lower() in vowels:\n",
    "            input = input.replace(letter, '')\n",
    "    return input\n",
    "print(remove_vowels(input))"
   ]
  },
  {
   "cell_type": "code",
   "execution_count": 109,
   "id": "1053c130",
   "metadata": {},
   "outputs": [
    {
     "name": "stdout",
     "output_type": "stream",
     "text": [
      "hrvey_dollz\n"
     ]
    }
   ],
   "source": [
    "input = '!H@rvey Doll@z!'\n",
    "def normalize_name(input):\n",
    "    for letter in input:\n",
    "        if letter.isspace() == True:\n",
    "            input = input.replace(\" \", \"_\")\n",
    "    for letter in input:\n",
    "        if letter.isalnum() == False and letter != \"_\":\n",
    "           input = input.replace(letter, '')\n",
    "        else:\n",
    "            continue\n",
    "    input = input.lower()\n",
    "    return input\n",
    "print(normalize_name(input))"
   ]
  },
  {
   "cell_type": "code",
   "execution_count": 125,
   "id": "63b0533a",
   "metadata": {},
   "outputs": [
    {
     "ename": "NameError",
     "evalue": "free variable 'total' referenced before assignment in enclosing scope",
     "output_type": "error",
     "traceback": [
      "\u001b[0;31m---------------------------------------------------------------------------\u001b[0m",
      "\u001b[0;31mNameError\u001b[0m                                 Traceback (most recent call last)",
      "\u001b[0;32m/var/folders/3n/86q7c8d16r51w8vg4g5kwq280000gn/T/ipykernel_97390/3307378044.py\u001b[0m in \u001b[0;36m<module>\u001b[0;34m\u001b[0m\n\u001b[1;32m      5\u001b[0m     \u001b[0;32mreturn\u001b[0m \u001b[0mtotal\u001b[0m\u001b[0;34m\u001b[0m\u001b[0;34m\u001b[0m\u001b[0m\n\u001b[1;32m      6\u001b[0m \u001b[0;34m\u001b[0m\u001b[0m\n\u001b[0;32m----> 7\u001b[0;31m \u001b[0mprint\u001b[0m\u001b[0;34m(\u001b[0m\u001b[0mcumulative_sum\u001b[0m\u001b[0;34m(\u001b[0m\u001b[0mvalues\u001b[0m\u001b[0;34m)\u001b[0m\u001b[0;34m)\u001b[0m\u001b[0;34m\u001b[0m\u001b[0;34m\u001b[0m\u001b[0m\n\u001b[0m\u001b[1;32m      8\u001b[0m \u001b[0;34m\u001b[0m\u001b[0m\n\u001b[1;32m      9\u001b[0m \u001b[0;34m\u001b[0m\u001b[0m\n",
      "\u001b[0;32m/var/folders/3n/86q7c8d16r51w8vg4g5kwq280000gn/T/ipykernel_97390/3307378044.py\u001b[0m in \u001b[0;36mcumulative_sum\u001b[0;34m(values)\u001b[0m\n\u001b[1;32m      2\u001b[0m \u001b[0mtotal\u001b[0m \u001b[0;34m=\u001b[0m \u001b[0;36m0\u001b[0m\u001b[0;34m\u001b[0m\u001b[0;34m\u001b[0m\u001b[0m\n\u001b[1;32m      3\u001b[0m \u001b[0;32mdef\u001b[0m \u001b[0mcumulative_sum\u001b[0m\u001b[0;34m(\u001b[0m\u001b[0mvalues\u001b[0m\u001b[0;34m)\u001b[0m\u001b[0;34m:\u001b[0m\u001b[0;34m\u001b[0m\u001b[0;34m\u001b[0m\u001b[0m\n\u001b[0;32m----> 4\u001b[0;31m     \u001b[0;34m[\u001b[0m\u001b[0mtotal\u001b[0m \u001b[0;34m:=\u001b[0m \u001b[0mtotal\u001b[0m \u001b[0;34m+\u001b[0m \u001b[0mvalue\u001b[0m \u001b[0;32mfor\u001b[0m \u001b[0mvalue\u001b[0m \u001b[0;32min\u001b[0m \u001b[0mvalues\u001b[0m\u001b[0;34m]\u001b[0m\u001b[0;34m\u001b[0m\u001b[0;34m\u001b[0m\u001b[0m\n\u001b[0m\u001b[1;32m      5\u001b[0m     \u001b[0;32mreturn\u001b[0m \u001b[0mtotal\u001b[0m\u001b[0;34m\u001b[0m\u001b[0;34m\u001b[0m\u001b[0m\n\u001b[1;32m      6\u001b[0m \u001b[0;34m\u001b[0m\u001b[0m\n",
      "\u001b[0;32m/var/folders/3n/86q7c8d16r51w8vg4g5kwq280000gn/T/ipykernel_97390/3307378044.py\u001b[0m in \u001b[0;36m<listcomp>\u001b[0;34m(.0)\u001b[0m\n\u001b[1;32m      2\u001b[0m \u001b[0mtotal\u001b[0m \u001b[0;34m=\u001b[0m \u001b[0;36m0\u001b[0m\u001b[0;34m\u001b[0m\u001b[0;34m\u001b[0m\u001b[0m\n\u001b[1;32m      3\u001b[0m \u001b[0;32mdef\u001b[0m \u001b[0mcumulative_sum\u001b[0m\u001b[0;34m(\u001b[0m\u001b[0mvalues\u001b[0m\u001b[0;34m)\u001b[0m\u001b[0;34m:\u001b[0m\u001b[0;34m\u001b[0m\u001b[0;34m\u001b[0m\u001b[0m\n\u001b[0;32m----> 4\u001b[0;31m     \u001b[0;34m[\u001b[0m\u001b[0mtotal\u001b[0m \u001b[0;34m:=\u001b[0m \u001b[0mtotal\u001b[0m \u001b[0;34m+\u001b[0m \u001b[0mvalue\u001b[0m \u001b[0;32mfor\u001b[0m \u001b[0mvalue\u001b[0m \u001b[0;32min\u001b[0m \u001b[0mvalues\u001b[0m\u001b[0;34m]\u001b[0m\u001b[0;34m\u001b[0m\u001b[0;34m\u001b[0m\u001b[0m\n\u001b[0m\u001b[1;32m      5\u001b[0m     \u001b[0;32mreturn\u001b[0m \u001b[0mtotal\u001b[0m\u001b[0;34m\u001b[0m\u001b[0;34m\u001b[0m\u001b[0m\n\u001b[1;32m      6\u001b[0m \u001b[0;34m\u001b[0m\u001b[0m\n",
      "\u001b[0;31mNameError\u001b[0m: free variable 'total' referenced before assignment in enclosing scope"
     ]
    }
   ],
   "source": [
    "values = [1, 1, 1]\n",
    "total = 0\n",
    "def cumulative_sum(values):\n",
    "    [total := total + value for value in values]\n",
    "    return total\n",
    "\n",
    "print(cumulative_sum(values))\n",
    "\n",
    "    "
   ]
  },
  {
   "cell_type": "code",
   "execution_count": 129,
   "id": "94d43229",
   "metadata": {},
   "outputs": [
    {
     "name": "stdout",
     "output_type": "stream",
     "text": [
      "apple doesn't begin with a consonant, you peasant\n"
     ]
    }
   ],
   "source": [
    "word = \"apple\"\n",
    "def cap_consonant(word):\n",
    "    if word[0].lower() not in ['a','e', 'i', 'o', 'u']:\n",
    "        return word.capitalize()\n",
    "    else:\n",
    "        return (f\"{word} doesn't begin with a consonant, you peasant\")\n",
    "print(cap_consonant(word))"
   ]
  },
  {
   "cell_type": "code",
   "execution_count": 130,
   "id": "54129812",
   "metadata": {},
   "outputs": [
    {
     "name": "stdout",
     "output_type": "stream",
     "text": [
      "5.0\n"
     ]
    }
   ],
   "source": [
    "price = 20\n",
    "good_service = True\n",
    "def calculate_tip(price):\n",
    "    if good_service == True:\n",
    "        return price * 0.25\n",
    "    if ok_service == True:\n",
    "        return price * 0.15\n",
    "    elif bad_service == True:\n",
    "        return price * 0.05\n",
    "\n",
    "print(calculate_tip(price))"
   ]
  },
  {
   "cell_type": "code",
   "execution_count": 131,
   "id": "57e25d19",
   "metadata": {},
   "outputs": [
    {
     "name": "stdout",
     "output_type": "stream",
     "text": [
      "1234\n"
     ]
    }
   ],
   "source": [
    "input = ('1, 2, 3, 4')              # a string needs parenthesis and quotes\n",
    "def handle_commas(input):\n",
    "    return input.replace(\", \", \"\")  # replace takes argument to be replaced, and replacement value\n",
    "\n",
    "print(handle_commas(input))"
   ]
  },
  {
   "cell_type": "code",
   "execution_count": 133,
   "id": "ff88d7af",
   "metadata": {},
   "outputs": [
    {
     "name": "stdout",
     "output_type": "stream",
     "text": [
      "_hrvey_dollz_\n"
     ]
    }
   ],
   "source": [
    "input = ' !H@rvey Doll@z! '\n",
    "def normalize_name(input):\n",
    "    for letter in input:\n",
    "        if letter.isspace() == True:\n",
    "            input = input.replace(\" \", \"_\")\n",
    "    for letter in input:\n",
    "        if letter.isalnum() == False and letter != \"_\":\n",
    "           input = input.replace(letter, '')\n",
    "        else:\n",
    "            continue\n",
    "    input = input.lower()\n",
    "    input = input.strip()\n",
    "    return input\n",
    "print(normalize_name(input))"
   ]
  },
  {
   "cell_type": "code",
   "execution_count": null,
   "id": "34137220",
   "metadata": {},
   "outputs": [],
   "source": []
  }
 ],
 "metadata": {
  "kernelspec": {
   "display_name": "Python 3 (ipykernel)",
   "language": "python",
   "name": "python3"
  },
  "language_info": {
   "codemirror_mode": {
    "name": "ipython",
    "version": 3
   },
   "file_extension": ".py",
   "mimetype": "text/x-python",
   "name": "python",
   "nbconvert_exporter": "python",
   "pygments_lexer": "ipython3",
   "version": "3.9.7"
  }
 },
 "nbformat": 4,
 "nbformat_minor": 5
}
