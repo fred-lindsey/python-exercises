{
 "cells": [
  {
   "cell_type": "markdown",
   "id": "e8916eb9",
   "metadata": {},
   "source": [
    "## Function structure\n",
    "- calling a function with one argument >> a list of numbers: "
   ]
  },
  {
   "cell_type": "code",
   "execution_count": 1,
   "id": "cc87f3b4",
   "metadata": {},
   "outputs": [
    {
     "data": {
      "text/plain": [
       "4"
      ]
     },
     "execution_count": 1,
     "metadata": {},
     "output_type": "execute_result"
    }
   ],
   "source": [
    "max([4, 3, 2, 1])"
   ]
  },
  {
   "cell_type": "code",
   "execution_count": 5,
   "id": "165723a6",
   "metadata": {},
   "outputs": [],
   "source": [
    "maximum_number = max([4, 3, 2, 1])"
   ]
  },
  {
   "cell_type": "code",
   "execution_count": 6,
   "id": "b81065d5",
   "metadata": {},
   "outputs": [
    {
     "name": "stdout",
     "output_type": "stream",
     "text": [
      "4\n"
     ]
    }
   ],
   "source": [
    "print(maximum_number)"
   ]
  },
  {
   "cell_type": "markdown",
   "id": "47760020",
   "metadata": {},
   "source": [
    "## Defining functions"
   ]
  },
  {
   "cell_type": "code",
   "execution_count": 7,
   "id": "e767bf29",
   "metadata": {},
   "outputs": [],
   "source": [
    "def increment(n):\n",
    "    return n + 1"
   ]
  },
  {
   "cell_type": "code",
   "execution_count": 8,
   "id": "a341f788",
   "metadata": {},
   "outputs": [
    {
     "name": "stdout",
     "output_type": "stream",
     "text": [
      "4\n"
     ]
    }
   ],
   "source": [
    "four = increment(3)\n",
    "print(four)"
   ]
  },
  {
   "cell_type": "code",
   "execution_count": 10,
   "id": "5a7b9137",
   "metadata": {},
   "outputs": [
    {
     "name": "stdout",
     "output_type": "stream",
     "text": [
      "6\n"
     ]
    }
   ],
   "source": [
    "six = increment(increment(increment(3)))\n",
    "print(six)"
   ]
  },
  {
   "cell_type": "code",
   "execution_count": 13,
   "id": "661f5819",
   "metadata": {},
   "outputs": [
    {
     "name": "stdout",
     "output_type": "stream",
     "text": [
      "6\n",
      "6\n"
     ]
    }
   ],
   "source": [
    "value = increment(3)\n",
    "value = increment(value)\n",
    "value = increment(value)\n",
    "print(value) ##both are nested functions\n",
    "print(six)"
   ]
  },
  {
   "cell_type": "markdown",
   "id": "2e6783cb",
   "metadata": {},
   "source": [
    "The first line is evaluated \"inside-out\", that is:\n",
    "\n",
    "The increment function is called with the integer literal 3\n",
    "The output of the first call to the increment() function is passed as an argument again to the increment() function. At this point, we are calling increment() with 4\n",
    "The output from the previous step is again passed in to the increment() function.\n",
    "Finally, the output from the last call to the increment() function is assigned to the variable six\n"
   ]
  },
  {
   "cell_type": "code",
   "execution_count": 17,
   "id": "1858baa7",
   "metadata": {},
   "outputs": [],
   "source": [
    "def bad_increment(n):\n",
    "    n + 1"
   ]
  },
  {
   "cell_type": "code",
   "execution_count": 18,
   "id": "354668ad",
   "metadata": {},
   "outputs": [
    {
     "name": "stdout",
     "output_type": "stream",
     "text": [
      "None\n"
     ]
    }
   ],
   "source": [
    "print(bad_increment(1))"
   ]
  },
  {
   "cell_type": "code",
   "execution_count": 20,
   "id": "227ae12a",
   "metadata": {},
   "outputs": [
    {
     "data": {
      "text/plain": [
       "4"
      ]
     },
     "execution_count": 20,
     "metadata": {},
     "output_type": "execute_result"
    }
   ],
   "source": [
    "def increment(n):\n",
    "    return n + 1\n",
    "    print('you will never see this')\n",
    "    return n + 1\n",
    "\n",
    "increment(3)"
   ]
  },
  {
   "cell_type": "code",
   "execution_count": 21,
   "id": "8bd65f5c",
   "metadata": {},
   "outputs": [
    {
     "ename": "NameError",
     "evalue": "name 'odd' is not defined",
     "output_type": "error",
     "traceback": [
      "\u001b[0;31m---------------------------------------------------------------------------\u001b[0m",
      "\u001b[0;31mNameError\u001b[0m                                 Traceback (most recent call last)",
      "\u001b[0;32m/var/folders/3n/86q7c8d16r51w8vg4g5kwq280000gn/T/ipykernel_97390/808354009.py\u001b[0m in \u001b[0;36m<module>\u001b[0;34m\u001b[0m\n\u001b[1;32m      5\u001b[0m         \u001b[0;32mreturn\u001b[0m \u001b[0modd\u001b[0m\u001b[0;34m\u001b[0m\u001b[0;34m\u001b[0m\u001b[0m\n\u001b[1;32m      6\u001b[0m \u001b[0;34m\u001b[0m\u001b[0m\n\u001b[0;32m----> 7\u001b[0;31m \u001b[0mprint\u001b[0m\u001b[0;34m(\u001b[0m\u001b[0mdeclare_even_odd\u001b[0m\u001b[0;34m(\u001b[0m\u001b[0;36m7\u001b[0m\u001b[0;34m)\u001b[0m\u001b[0;34m)\u001b[0m\u001b[0;34m\u001b[0m\u001b[0;34m\u001b[0m\u001b[0m\n\u001b[0m",
      "\u001b[0;32m/var/folders/3n/86q7c8d16r51w8vg4g5kwq280000gn/T/ipykernel_97390/808354009.py\u001b[0m in \u001b[0;36mdeclare_even_odd\u001b[0;34m(n)\u001b[0m\n\u001b[1;32m      3\u001b[0m         \u001b[0;32mreturn\u001b[0m \u001b[0meven\u001b[0m\u001b[0;34m\u001b[0m\u001b[0;34m\u001b[0m\u001b[0m\n\u001b[1;32m      4\u001b[0m     \u001b[0;32melse\u001b[0m\u001b[0;34m:\u001b[0m\u001b[0;34m\u001b[0m\u001b[0;34m\u001b[0m\u001b[0m\n\u001b[0;32m----> 5\u001b[0;31m         \u001b[0;32mreturn\u001b[0m \u001b[0modd\u001b[0m\u001b[0;34m\u001b[0m\u001b[0;34m\u001b[0m\u001b[0m\n\u001b[0m\u001b[1;32m      6\u001b[0m \u001b[0;34m\u001b[0m\u001b[0m\n\u001b[1;32m      7\u001b[0m \u001b[0mprint\u001b[0m\u001b[0;34m(\u001b[0m\u001b[0mdeclare_even_odd\u001b[0m\u001b[0;34m(\u001b[0m\u001b[0;36m7\u001b[0m\u001b[0;34m)\u001b[0m\u001b[0;34m)\u001b[0m\u001b[0;34m\u001b[0m\u001b[0;34m\u001b[0m\u001b[0m\n",
      "\u001b[0;31mNameError\u001b[0m: name 'odd' is not defined"
     ]
    }
   ],
   "source": [
    "def declare_even_odd(n):\n",
    "    if n % 2 == 0:\n",
    "        return even\n",
    "    else:\n",
    "        return odd\n",
    "    \n",
    "print(declare_even_odd(7))"
   ]
  },
  {
   "cell_type": "markdown",
   "id": "6a031cb2",
   "metadata": {},
   "source": [
    "## Arguments and Parameters:\n",
    "- arguments: the value a function is called with\n",
    "- parameters: part of the fucntion definition, placeholder for an argument"
   ]
  },
  {
   "cell_type": "code",
   "execution_count": 23,
   "id": "4adabae8",
   "metadata": {},
   "outputs": [
    {
     "name": "stdout",
     "output_type": "stream",
     "text": [
      "7\n"
     ]
    }
   ],
   "source": [
    "def add(a, b):\n",
    "    result = a + b\n",
    "    return result\n",
    "\n",
    "x = 3\n",
    "seven = add(x, 4)\n",
    "print(seven)"
   ]
  },
  {
   "cell_type": "code",
   "execution_count": 24,
   "id": "8f6a01b4",
   "metadata": {},
   "outputs": [],
   "source": [
    "def shout(message):\n",
    "    print(message.upper() + '!!!')"
   ]
  },
  {
   "cell_type": "code",
   "execution_count": 25,
   "id": "7f36a669",
   "metadata": {},
   "outputs": [
    {
     "name": "stdout",
     "output_type": "stream",
     "text": [
      "HEY THERE!!!\n"
     ]
    }
   ],
   "source": [
    "return_value = shout('hey there')"
   ]
  },
  {
   "cell_type": "code",
   "execution_count": 26,
   "id": "e1ae0b8e",
   "metadata": {},
   "outputs": [
    {
     "name": "stdout",
     "output_type": "stream",
     "text": [
      "None\n"
     ]
    }
   ],
   "source": [
    "print(return_value) #shout needs a return statement so that it creates a\n",
    "                    # stored variable"
   ]
  },
  {
   "cell_type": "markdown",
   "id": "8c445715",
   "metadata": {},
   "source": [
    "## Default Values\n",
    "- functions can define default values for parameters, which allows you to either specify the argument or leave it out when the fucntion is called."
   ]
  },
  {
   "cell_type": "code",
   "execution_count": 27,
   "id": "819592f5",
   "metadata": {},
   "outputs": [],
   "source": [
    "def say_hello(name='World', greeting='Hello'):\n",
    "    return'{}, {}!'.format(greeting, name)"
   ]
  },
  {
   "cell_type": "code",
   "execution_count": 29,
   "id": "3e897b96",
   "metadata": {},
   "outputs": [
    {
     "data": {
      "text/plain": [
       "'Hello, World!'"
      ]
     },
     "execution_count": 29,
     "metadata": {},
     "output_type": "execute_result"
    }
   ],
   "source": [
    "say_hello()"
   ]
  },
  {
   "cell_type": "code",
   "execution_count": 30,
   "id": "581b4ac0",
   "metadata": {},
   "outputs": [
    {
     "data": {
      "text/plain": [
       "'Hello, CodeUp!'"
      ]
     },
     "execution_count": 30,
     "metadata": {},
     "output_type": "execute_result"
    }
   ],
   "source": [
    "say_hello('CodeUp')"
   ]
  },
  {
   "cell_type": "markdown",
   "id": "d01750a7",
   "metadata": {},
   "source": [
    "## Keyword Arguments\n",
    "- we can also specify arguments by name"
   ]
  },
  {
   "cell_type": "code",
   "execution_count": 31,
   "id": "2030ab5d",
   "metadata": {},
   "outputs": [
    {
     "data": {
      "text/plain": [
       "'Salutations, CodeUp!'"
      ]
     },
     "execution_count": 31,
     "metadata": {},
     "output_type": "execute_result"
    }
   ],
   "source": [
    "say_hello(greeting='Salutations', name='CodeUp')"
   ]
  },
  {
   "cell_type": "markdown",
   "id": "c3689d10",
   "metadata": {},
   "source": [
    "-Only restriction is that keyword arguments must come after postional arguments"
   ]
  },
  {
   "cell_type": "markdown",
   "id": "3674c788",
   "metadata": {},
   "source": [
    "## Calling Functions"
   ]
  },
  {
   "cell_type": "code",
   "execution_count": 32,
   "id": "5c068f0b",
   "metadata": {},
   "outputs": [
    {
     "data": {
      "text/plain": [
       "'Salutations, CodeUp!'"
      ]
     },
     "execution_count": 32,
     "metadata": {},
     "output_type": "execute_result"
    }
   ],
   "source": [
    "args = ['CodeUp', 'Salutations']\n",
    "say_hello(*args) #multiple arguments at once, selects all"
   ]
  },
  {
   "cell_type": "markdown",
   "id": "bc45bcfe",
   "metadata": {},
   "source": [
    "- kwargs: key word arguments"
   ]
  },
  {
   "cell_type": "code",
   "execution_count": 33,
   "id": "645e3895",
   "metadata": {},
   "outputs": [
    {
     "data": {
      "text/plain": [
       "'Salutations, Codeup!'"
      ]
     },
     "execution_count": 33,
     "metadata": {},
     "output_type": "execute_result"
    }
   ],
   "source": [
    "kwargs = {'greeting': 'Salutations', 'name': 'Codeup'}\n",
    "say_hello(**kwargs)"
   ]
  },
  {
   "cell_type": "markdown",
   "id": "f0e13db8",
   "metadata": {},
   "source": [
    "-commonly used for nested functions"
   ]
  },
  {
   "cell_type": "markdown",
   "id": "04b0ccbb",
   "metadata": {},
   "source": [
    "## Function Scope\n",
    "- describes where a variable can be referenced. In scope: can reference. Out of scope, can't reference.\n",
    "- local variables are inside of a function and stored locally\n",
    "- global variables are accessible inside any function\n",
    "- w/in a function, the local variable takes precedence"
   ]
  },
  {
   "cell_type": "code",
   "execution_count": 35,
   "id": "5b1c2600",
   "metadata": {},
   "outputs": [],
   "source": [
    "a_global_variable = 42"
   ]
  },
  {
   "cell_type": "code",
   "execution_count": 37,
   "id": "d9c67bfa",
   "metadata": {},
   "outputs": [],
   "source": [
    "def some_function():\n",
    "    print('Inside the function: %s' % a_global_variable)"
   ]
  },
  {
   "cell_type": "code",
   "execution_count": 49,
   "id": "ee5f4d3c",
   "metadata": {},
   "outputs": [],
   "source": [
    "n = 123"
   ]
  },
  {
   "cell_type": "code",
   "execution_count": 50,
   "id": "5e5bcb91",
   "metadata": {},
   "outputs": [
    {
     "name": "stdout",
     "output_type": "stream",
     "text": [
      "inside the function, n == {n}\n"
     ]
    }
   ],
   "source": [
    "def somefunction():\n",
    "    n = 10\n",
    "    n = n-3\n",
    "print(\"inside the function, n == {n}\")"
   ]
  },
  {
   "cell_type": "code",
   "execution_count": 45,
   "id": "32521254",
   "metadata": {},
   "outputs": [
    {
     "name": "stdout",
     "output_type": "stream",
     "text": [
      "Outside the function, n == {n}\n"
     ]
    }
   ],
   "source": [
    "print('Outside the function, n == {n}')"
   ]
  },
  {
   "cell_type": "code",
   "execution_count": 46,
   "id": "e26009e9",
   "metadata": {},
   "outputs": [],
   "source": [
    "for i in range(10):\n",
    "    n += 1\n",
    "\n",
    "print('After for-loop, n')"
   ]
  },
  {
   "cell_type": "markdown",
   "id": "3a98bf97",
   "metadata": {},
   "source": [
    "## Lambda Functions\n",
    "- takes in 0 or more argument, returns a single return statement"
   ]
  },
  {
   "cell_type": "code",
   "execution_count": null,
   "id": "4394d968",
   "metadata": {},
   "outputs": [],
   "source": [
    "add_one = lambda n: n + 1\n",
    "add_one(9)"
   ]
  },
  {
   "cell_type": "code",
   "execution_count": 54,
   "id": "7298929e",
   "metadata": {},
   "outputs": [
    {
     "data": {
      "text/plain": [
       "'Coffee'"
      ]
     },
     "execution_count": 54,
     "metadata": {},
     "output_type": "execute_result"
    }
   ],
   "source": [
    "word = \"coffee\"\n",
    "def cap_consonant(word):\n",
    "    if word[0].lower() not in ['a','e', 'i', 'o', 'u']:\n",
    "        return word.capitalize()\n",
    "    else:\n",
    "        return (f\"{word} this doesn't begin with a consonant\")\n",
    "cap_consonant(word)"
   ]
  },
  {
   "cell_type": "code",
   "execution_count": null,
   "id": "ad3ed643",
   "metadata": {},
   "outputs": [],
   "source": []
  }
 ],
 "metadata": {
  "kernelspec": {
   "display_name": "Python 3 (ipykernel)",
   "language": "python",
   "name": "python3"
  },
  "language_info": {
   "codemirror_mode": {
    "name": "ipython",
    "version": 3
   },
   "file_extension": ".py",
   "mimetype": "text/x-python",
   "name": "python",
   "nbconvert_exporter": "python",
   "pygments_lexer": "ipython3",
   "version": "3.9.7"
  }
 },
 "nbformat": 4,
 "nbformat_minor": 5
}
