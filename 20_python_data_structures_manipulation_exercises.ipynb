{
 "cells": [
  {
   "cell_type": "code",
   "execution_count": 8,
   "id": "8b7e88b8",
   "metadata": {},
   "outputs": [],
   "source": [
    "\n",
    "# How many students are there?\n",
    "# How many students prefer light coffee? For each type of coffee roast?\n",
    "# How many types of each pet are there?\n",
    "# How many grades does each student have? Do they all have the same number of grades?\n",
    "# What is each student's grade average?\n",
    "# How many pets does each student have?\n",
    "# How many students are in web development? data science?\n",
    "# What is the average number of pets for students in web development?\n",
    "# What is the average pet age for students in data science?\n",
    "# What is most frequent coffee preference for data science students?\n",
    "# What is the least frequent coffee preference for web development students?\n",
    "# What is the average grade for students with at least 2 pets?\n",
    "# How many students have 3 pets?\n",
    "# What is the average grade for students with 0 pets?\n",
    "# What is the average grade for web development students? data science students?\n",
    "# What is the average grade range (i.e. highest grade - lowest grade) for dark coffee drinkers?\n",
    "# What is the average number of pets for medium coffee drinkers?\n",
    "# What is the most common type of pet for web development students?\n",
    "# What is the average name length?\n",
    "# What is the highest pet age for light coffee drinkers?\n",
    "#students.py\n",
    "students = [\n",
    "    {\n",
    "        \"id\": \"100001\",\n",
    "        \"student\": \"Ada Lovelace\",\n",
    "        \"coffee_preference\": \"light\",\n",
    "        \"course\": \"web development\",\n",
    "        \"grades\": [70, 91, 82, 71],\n",
    "        \"pets\": [{\"species\": \"horse\", \"age\": 8}],\n",
    "    },\n",
    "    {\n",
    "        \"id\": \"100002\",\n",
    "        \"student\": \"Thomas Bayes\",\n",
    "        \"coffee_preference\": \"medium\",\n",
    "        \"course\": \"data science\",\n",
    "        \"grades\": [75, 73, 86, 100],\n",
    "        \"pets\": [],\n",
    "    },\n",
    "    {\n",
    "        \"id\": \"100003\",\n",
    "        \"student\": \"Marie Curie\",\n",
    "        \"coffee_preference\": \"light\",\n",
    "        \"course\": \"web development\",\n",
    "        \"grades\": [70, 89, 69, 65],\n",
    "        \"pets\": [{\"species\": \"cat\", \"age\": 0}],\n",
    "    },\n",
    "    {\n",
    "        \"id\": \"100004\",\n",
    "        \"student\": \"Grace Hopper\",\n",
    "        \"coffee_preference\": \"dark\",\n",
    "        \"course\": \"data science\",\n",
    "        \"grades\": [73, 66, 83, 92],\n",
    "        \"pets\": [{\"species\": \"dog\", \"age\": 4}, {\"species\": \"cat\", \"age\": 4}],\n",
    "    },\n",
    "    {\n",
    "        \"id\": \"100005\",\n",
    "        \"student\": \"Alan Turing\",\n",
    "        \"coffee_preference\": \"dark\",\n",
    "        \"course\": \"web development\",\n",
    "        \"grades\": [78, 98, 85, 65],\n",
    "        \"pets\": [\n",
    "            {\"species\": \"horse\", \"age\": 6},\n",
    "            {\"species\": \"horse\", \"age\": 7},\n",
    "            {\"species\": \"dog\", \"age\": 5},\n",
    "        ],\n",
    "    },\n",
    "    {\n",
    "        \"id\": \"100006\",\n",
    "        \"student\": \"Rosalind Franklin\",\n",
    "        \"coffee_preference\": \"dark\",\n",
    "        \"course\": \"data science\",\n",
    "        \"grades\": [76, 70, 96, 81],\n",
    "        \"pets\": [],\n",
    "    },\n",
    "    {\n",
    "        \"id\": \"100007\",\n",
    "        \"student\": \"Elizabeth Blackwell\",\n",
    "        \"coffee_preference\": \"dark\",\n",
    "        \"course\": \"web development\",\n",
    "        \"grades\": [69, 94, 89, 86],\n",
    "        \"pets\": [{\"species\": \"cat\", \"age\": 10}],\n",
    "    },\n",
    "    {\n",
    "        \"id\": \"100008\",\n",
    "        \"student\": \"Rene Descartes\",\n",
    "        \"coffee_preference\": \"medium\",\n",
    "        \"course\": \"data science\",\n",
    "        \"grades\": [87, 79, 90, 99],\n",
    "        \"pets\": [{\"species\": \"cat\", \"age\": 10}, {\"species\": \"cat\", \"age\": 8}],\n",
    "    },\n",
    "    {\n",
    "        \"id\": \"100009\",\n",
    "        \"student\": \"Ahmed Zewail\",\n",
    "        \"coffee_preference\": \"medium\",\n",
    "        \"course\": \"data science\",\n",
    "        \"grades\": [74, 99, 93, 89],\n",
    "        \"pets\": [{\"species\": \"cat\", \"age\": 0}, {\"species\": \"cat\", \"age\": 0}],\n",
    "    },\n",
    "    {\n",
    "        \"id\": \"100010\",\n",
    "        \"student\": \"Chien-Shiung Wu\",\n",
    "        \"coffee_preference\": \"medium\",\n",
    "        \"course\": \"web development\",\n",
    "        \"grades\": [82, 92, 91, 65],\n",
    "        \"pets\": [{\"species\": \"cat\", \"age\": 8}],\n",
    "    },\n",
    "    {\n",
    "        \"id\": \"100011\",\n",
    "        \"student\": \"William Sanford Nye\",\n",
    "        \"coffee_preference\": \"dark\",\n",
    "        \"course\": \"data science\",\n",
    "        \"grades\": [70, 92, 65, 99],\n",
    "        \"pets\": [{\"species\": \"cat\", \"age\": 8}, {\"species\": \"cat\", \"age\": 5}],\n",
    "    },\n",
    "    {\n",
    "        \"id\": \"100012\",\n",
    "        \"student\": \"Carl Sagan\",\n",
    "        \"coffee_preference\": \"medium\",\n",
    "        \"course\": \"data science\",\n",
    "        \"grades\": [100, 86, 91, 87],\n",
    "        \"pets\": [{\"species\": \"cat\", \"age\": 10}],\n",
    "    },\n",
    "    {\n",
    "        \"id\": \"100013\",\n",
    "        \"student\": \"Jane Goodall\",\n",
    "        \"coffee_preference\": \"light\",\n",
    "        \"course\": \"web development\",\n",
    "        \"grades\": [80, 70, 68, 98],\n",
    "        \"pets\": [{\"species\": \"horse\", \"age\": 4}],\n",
    "    },\n",
    "    {\n",
    "        \"id\": \"100014\",\n",
    "        \"student\": \"Richard Feynman\",\n",
    "        \"coffee_preference\": \"medium\",\n",
    "        \"course\": \"web development\",\n",
    "        \"grades\": [73, 99, 86, 98],\n",
    "        \"pets\": [{\"species\": \"dog\", \"age\": 6}],\n",
    "    },\n",
    "]\n"
   ]
  },
  {
   "cell_type": "markdown",
   "id": "a9a47024",
   "metadata": {},
   "source": [
    "1. How many students are there?\n",
    "    "
   ]
  },
  {
   "cell_type": "code",
   "execution_count": 16,
   "id": "68e90359",
   "metadata": {},
   "outputs": [
    {
     "name": "stdout",
     "output_type": "stream",
     "text": [
      "14\n"
     ]
    }
   ],
   "source": [
    "num_students = len(students)\n",
    "\n",
    "print(len(students))\n",
    "\n",
    "# or\n",
    "\n",
    "# num_students = 0\n",
    "# students = student[0]\n",
    "\n",
    "# for student[0] in students:\n",
    "#     num_students += len(students)\n",
    "    \n",
    "# num_students"
   ]
  },
  {
   "cell_type": "markdown",
   "id": "2e237195",
   "metadata": {},
   "source": [
    "2. How many students prefer light coffee? For each type of coffee roast?"
   ]
  },
  {
   "cell_type": "code",
   "execution_count": 23,
   "id": "ddc6d0f4",
   "metadata": {},
   "outputs": [
    {
     "name": "stdout",
     "output_type": "stream",
     "text": [
      "There are 3 light coffee drinkers\n",
      "There are 6 medium coffee drinkers\n",
      "There are 5 dark coffee drinkers\n"
     ]
    }
   ],
   "source": [
    "# coffee preferences can be light, medium and dark\n",
    "count_light = 0\n",
    "count_medium = 0\n",
    "count_dark = 0\n",
    "\n",
    "for student in students:\n",
    "    if student[\"coffee_preference\"] == \"light\":\n",
    "        count_light += 1\n",
    "    if student[\"coffee_preference\"] == \"medium\":\n",
    "        count_medium += 1\n",
    "    if student[\"coffee_preference\"] == \"dark\":\n",
    "        count_dark += 1\n",
    "        \n",
    "print(f'There are {count_light} light coffee drinkers')\n",
    "print('There are {} medium coffee drinkers'.format(count_medium))\n",
    "print(f'There are {count_dark} dark coffee drinkers')\n",
    "    \n",
    "    "
   ]
  },
  {
   "cell_type": "code",
   "execution_count": 25,
   "id": "efef2207",
   "metadata": {},
   "outputs": [
    {
     "ename": "KeyError",
     "evalue": "0",
     "output_type": "error",
     "traceback": [
      "\u001b[0;31m---------------------------------------------------------------------------\u001b[0m",
      "\u001b[0;31mKeyError\u001b[0m                                  Traceback (most recent call last)",
      "\u001b[0;32m/var/folders/3n/86q7c8d16r51w8vg4g5kwq280000gn/T/ipykernel_3099/110515256.py\u001b[0m in \u001b[0;36m<module>\u001b[0;34m\u001b[0m\n\u001b[1;32m      5\u001b[0m \u001b[0mroasts\u001b[0m \u001b[0;34m=\u001b[0m \u001b[0;34m{\u001b[0m\u001b[0;34m}\u001b[0m\u001b[0;34m\u001b[0m\u001b[0;34m\u001b[0m\u001b[0m\n\u001b[1;32m      6\u001b[0m \u001b[0;34m\u001b[0m\u001b[0m\n\u001b[0;32m----> 7\u001b[0;31m \u001b[0mstudent\u001b[0m \u001b[0;34m=\u001b[0m \u001b[0mstudent\u001b[0m\u001b[0;34m[\u001b[0m\u001b[0;36m0\u001b[0m\u001b[0;34m]\u001b[0m\u001b[0;34m\u001b[0m\u001b[0;34m\u001b[0m\u001b[0m\n\u001b[0m\u001b[1;32m      8\u001b[0m \u001b[0;34m\u001b[0m\u001b[0m\n\u001b[1;32m      9\u001b[0m \u001b[0mpreference\u001b[0m \u001b[0;34m=\u001b[0m \u001b[0mstudent\u001b[0m\u001b[0;34m[\u001b[0m\u001b[0;34m\"coffee_preference\"\u001b[0m\u001b[0;34m]\u001b[0m\u001b[0;34m\u001b[0m\u001b[0;34m\u001b[0m\u001b[0m\n",
      "\u001b[0;31mKeyError\u001b[0m: 0"
     ]
    }
   ],
   "source": [
    "## Ryan Orsingers way\n",
    "\n",
    "## first for one student:\n",
    "\n",
    "roasts = {}\n",
    "\n",
    "student = student[0]\n",
    "\n",
    "preference = student[\"coffee_preference\"]\n",
    "preference\n",
    "\n",
    "if preference in roasts.keys():\n",
    "    roasts[preference] += 1\n",
    "else:\n",
    "    roasts[preference] = 1\n",
    "    \n",
    "roasts"
   ]
  },
  {
   "cell_type": "code",
   "execution_count": null,
   "id": "a2e7dfc6",
   "metadata": {},
   "outputs": [],
   "source": [
    "## then: Looks like I have a solution that works for a single student.\n",
    "## let's bring back the loop to iterate through all students\n",
    "\n",
    "for student in students:\n",
    "    preference = student[\"coffee_preference\"]\n",
    "    \n",
    "if preference in roasts.keys():\n",
    "    roasts[preference] += 1\n",
    "else:\n",
    "    roasts[preference] = 1"
   ]
  },
  {
   "cell_type": "markdown",
   "id": "3d0791bf",
   "metadata": {},
   "source": [
    "3.  How many types of each pet are there?"
   ]
  },
  {
   "cell_type": "code",
   "execution_count": null,
   "id": "2899ce00",
   "metadata": {},
   "outputs": [],
   "source": [
    "types_of_pet = 0\n",
    "\n"
   ]
  }
 ],
 "metadata": {
  "kernelspec": {
   "display_name": "Python 3 (ipykernel)",
   "language": "python",
   "name": "python3"
  },
  "language_info": {
   "codemirror_mode": {
    "name": "ipython",
    "version": 3
   },
   "file_extension": ".py",
   "mimetype": "text/x-python",
   "name": "python",
   "nbconvert_exporter": "python",
   "pygments_lexer": "ipython3",
   "version": "3.9.7"
  }
 },
 "nbformat": 4,
 "nbformat_minor": 5
}
