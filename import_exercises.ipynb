{
 "cells": [
  {
   "cell_type": "markdown",
   "id": "da001421",
   "metadata": {},
   "source": [
    "# Notes"
   ]
  },
  {
   "cell_type": "markdown",
   "id": "62c08f02",
   "metadata": {},
   "source": [
    "## Basic Import\n",
    "import module_name at the top of your code\n",
    "\n",
    "module_name.method_name() to call a method from that module"
   ]
  },
  {
   "cell_type": "code",
   "execution_count": null,
   "id": "b4f31b37",
   "metadata": {},
   "outputs": [],
   "source": [
    "# How to import\n",
    "import math"
   ]
  },
  {
   "cell_type": "code",
   "execution_count": null,
   "id": "3f2d16cf",
   "metadata": {},
   "outputs": [],
   "source": [
    "math.pi"
   ]
  },
  {
   "cell_type": "code",
   "execution_count": null,
   "id": "43f60b62",
   "metadata": {},
   "outputs": [],
   "source": [
    "math.sqrt(45)"
   ]
  },
  {
   "cell_type": "markdown",
   "id": "4871a711",
   "metadata": {},
   "source": [
    "## Importing and aliasing"
   ]
  },
  {
   "cell_type": "code",
   "execution_count": null,
   "id": "85190170",
   "metadata": {},
   "outputs": [],
   "source": [
    "import math as m"
   ]
  },
  {
   "cell_type": "code",
   "execution_count": null,
   "id": "544883b8",
   "metadata": {},
   "outputs": [],
   "source": [
    "m.sin(90)"
   ]
  },
  {
   "cell_type": "code",
   "execution_count": null,
   "id": "8825628d",
   "metadata": {},
   "outputs": [],
   "source": [
    "##This is industry standard\n",
    "import pandas as pd"
   ]
  },
  {
   "cell_type": "markdown",
   "id": "2aabb147",
   "metadata": {},
   "source": [
    "## Import only a specific method/function\n"
   ]
  },
  {
   "cell_type": "code",
   "execution_count": null,
   "id": "be27a188",
   "metadata": {},
   "outputs": [],
   "source": [
    "from math import cos"
   ]
  },
  {
   "cell_type": "code",
   "execution_count": null,
   "id": "586dfd4a",
   "metadata": {},
   "outputs": [],
   "source": [
    "cos(30)"
   ]
  },
  {
   "cell_type": "code",
   "execution_count": null,
   "id": "9a11f512",
   "metadata": {},
   "outputs": [],
   "source": [
    "# What about multiple imports?\n",
    "from math import sin , tan"
   ]
  },
  {
   "cell_type": "code",
   "execution_count": null,
   "id": "d26ad372",
   "metadata": {},
   "outputs": [],
   "source": [
    "sin(45)"
   ]
  },
  {
   "cell_type": "code",
   "execution_count": null,
   "id": "816ebf8f",
   "metadata": {},
   "outputs": [],
   "source": [
    "sin(90)"
   ]
  },
  {
   "cell_type": "code",
   "execution_count": null,
   "id": "cf66cf58",
   "metadata": {},
   "outputs": [],
   "source": [
    "# Will also see importing modules from library\n",
    "# import package.module"
   ]
  },
  {
   "cell_type": "code",
   "execution_count": null,
   "id": "7d397077",
   "metadata": {},
   "outputs": [],
   "source": [
    "import matplotlib.pyplot as plt"
   ]
  },
  {
   "cell_type": "code",
   "execution_count": null,
   "id": "819b1196",
   "metadata": {},
   "outputs": [],
   "source": [
    "x = range(1, 20)\n",
    "y = [n**2 for n in x]\n",
    "print(x)\n",
    "print(y)"
   ]
  },
  {
   "cell_type": "code",
   "execution_count": null,
   "id": "b5522f36",
   "metadata": {},
   "outputs": [],
   "source": [
    "plt.scatter(x,y)"
   ]
  },
  {
   "cell_type": "code",
   "execution_count": null,
   "id": "e451b4b7",
   "metadata": {},
   "outputs": [],
   "source": [
    "plt.bar(x,y)"
   ]
  },
  {
   "cell_type": "markdown",
   "id": "5848c70b",
   "metadata": {},
   "source": [
    "## Import our own code\n",
    "\n",
    "- write a .py script and save in a folder. name it module.py\n",
    "- create another .py or notebook in same folder >> self contained project\n",
    "- in new file, import file name/ module name"
   ]
  },
  {
   "cell_type": "code",
   "execution_count": null,
   "id": "7e5e2495",
   "metadata": {},
   "outputs": [],
   "source": [
    "import import_example"
   ]
  },
  {
   "cell_type": "code",
   "execution_count": null,
   "id": "b80b1abe",
   "metadata": {},
   "outputs": [],
   "source": [
    "import_example.add(2, 3)"
   ]
  },
  {
   "cell_type": "code",
   "execution_count": null,
   "id": "ec06e14a",
   "metadata": {},
   "outputs": [],
   "source": []
  },
  {
   "cell_type": "markdown",
   "id": "0fa54704",
   "metadata": {},
   "source": [
    "## Conditional \n",
    "\n",
    "if __name__== '__main__':\n",
    "\n",
    "condition to run the input statements >> breaks you out of the jupyter notebook incorrect feedback loop\n",
    "\n",
    "useful to not run the extra pieces of code\n",
    "\n",
    "assert (2,3) == 5 >> better way to check code >> \"automated test ran appropriately\""
   ]
  },
  {
   "cell_type": "markdown",
   "id": "ded827d9",
   "metadata": {},
   "source": [
    "## Exercises\n",
    "\n",
    "You will need to use imports to complete each exercise; in addition, these exercise will strengthen your problem solving and python coding skills.\n",
    "\n",
    "You will be directed to create specific files in part 1, for the rest you may do your work in either import_exercises.py or import_exercises.ipynb.\n",
    "\n",
    "Import and test 3 of the functions from your functions exercise file. Import each function in a different way:\n",
    "\n",
    "Run an interactive python session and import the module. Call the is_vowel function using the . syntax.\n",
    "Create a file named import_exericses.py. Within this file, use from to import the calculate_tip function directly. Call this function with values you choose and print the result.\n",
    "Create a jupyter notebook named import_exercises.ipynb. Use from to import the get_letter_grade function and give it an alias. Test this function in your notebook.\n",
    "Make sure your code that tests the function imports is run from the same directory that your functions exercise file is in.\n",
    "\n",
    "Read about and use the itertools module from the python standard library to help you solve the following problems:\n",
    "\n",
    "How many different ways can you combine the letters from \"abc\" with the numbers 1, 2, and 3?\n",
    "How many different combinations are there of 2 letters from \"abcd\"?\n",
    "How many different permutations are there of 2 letters from \"abcd\"?\n",
    "Save this file as profiles.json inside of your exercises directory (right click -> save file as...).\n",
    "\n",
    "Use the load function from the json module to open this file.\n",
    "\n",
    "\n",
    "import json\n",
    "\n",
    "json.load(open('profiles.json'))\n",
    "Your code should produce a list of dictionaries. Using this data, write some code that calculates and outputs the following information:\n",
    "\n",
    "Total number of users\n",
    "Number of active users\n",
    "Number of inactive users\n",
    "Grand total of balances for all users\n",
    "Average balance per user\n",
    "User with the lowest balance\n",
    "User with the highest balance\n",
    "Most common favorite fruit\n",
    "Least most common favorite fruit\n",
    "Total number of unread messages for all users\n",
    "\n"
   ]
  },
  {
   "cell_type": "code",
   "execution_count": null,
   "id": "8b7e4d34",
   "metadata": {},
   "outputs": [],
   "source": []
  }
 ],
 "metadata": {
  "kernelspec": {
   "display_name": "Python 3 (ipykernel)",
   "language": "python",
   "name": "python3"
  },
  "language_info": {
   "codemirror_mode": {
    "name": "ipython",
    "version": 3
   },
   "file_extension": ".py",
   "mimetype": "text/x-python",
   "name": "python",
   "nbconvert_exporter": "python",
   "pygments_lexer": "ipython3",
   "version": "3.9.7"
  }
 },
 "nbformat": 4,
 "nbformat_minor": 5
}
