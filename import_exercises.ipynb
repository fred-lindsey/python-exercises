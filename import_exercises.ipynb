{
 "cells": [
  {
   "cell_type": "markdown",
   "id": "2d424ab3",
   "metadata": {},
   "source": [
    "# Notes"
   ]
  },
  {
   "cell_type": "markdown",
   "id": "ee22a154",
   "metadata": {},
   "source": [
    "## Basic Import\n",
    "import module_name at the top of your code\n",
    "\n",
    "module_name.method_name() to call a method from that module"
   ]
  },
  {
   "cell_type": "code",
   "execution_count": null,
   "id": "ba813943",
   "metadata": {},
   "outputs": [],
   "source": [
    "# How to import\n",
    "import math"
   ]
  },
  {
   "cell_type": "code",
   "execution_count": null,
   "id": "909c5876",
   "metadata": {},
   "outputs": [],
   "source": [
    "math.pi"
   ]
  },
  {
   "cell_type": "code",
   "execution_count": null,
   "id": "4bceb328",
   "metadata": {},
   "outputs": [],
   "source": [
    "math.sqrt(45)"
   ]
  },
  {
   "cell_type": "markdown",
   "id": "19d3275c",
   "metadata": {},
   "source": [
    "## Importing and aliasing"
   ]
  },
  {
   "cell_type": "code",
   "execution_count": null,
   "id": "5b7213c9",
   "metadata": {},
   "outputs": [],
   "source": [
    "import math as m"
   ]
  },
  {
   "cell_type": "code",
   "execution_count": null,
   "id": "289b580c",
   "metadata": {},
   "outputs": [],
   "source": [
    "m.sin(90)"
   ]
  },
  {
   "cell_type": "code",
   "execution_count": null,
   "id": "7c5015f9",
   "metadata": {},
   "outputs": [],
   "source": [
    "##This is industry standard\n",
    "import pandas as pd"
   ]
  },
  {
   "cell_type": "markdown",
   "id": "98abb052",
   "metadata": {},
   "source": [
    "## Import only a specific method/function\n"
   ]
  },
  {
   "cell_type": "code",
   "execution_count": null,
   "id": "36148f3c",
   "metadata": {},
   "outputs": [],
   "source": [
    "from math import cos"
   ]
  },
  {
   "cell_type": "code",
   "execution_count": null,
   "id": "34954cde",
   "metadata": {},
   "outputs": [],
   "source": [
    "cos(30)"
   ]
  },
  {
   "cell_type": "code",
   "execution_count": null,
   "id": "9336dd72",
   "metadata": {},
   "outputs": [],
   "source": [
    "# What about multiple imports?\n",
    "from math import sin , tan"
   ]
  },
  {
   "cell_type": "code",
   "execution_count": null,
   "id": "b41df32e",
   "metadata": {},
   "outputs": [],
   "source": [
    "sin(45)"
   ]
  },
  {
   "cell_type": "code",
   "execution_count": null,
   "id": "095b2143",
   "metadata": {},
   "outputs": [],
   "source": [
    "sin(90)"
   ]
  },
  {
   "cell_type": "code",
   "execution_count": null,
   "id": "656eb4de",
   "metadata": {},
   "outputs": [],
   "source": [
    "# Will also see importing modules from library\n",
    "# import package.module"
   ]
  },
  {
   "cell_type": "code",
   "execution_count": null,
   "id": "0a4bfe2b",
   "metadata": {},
   "outputs": [],
   "source": [
    "import matplotlib.pyplot as plt"
   ]
  },
  {
   "cell_type": "code",
   "execution_count": null,
   "id": "59e82ac1",
   "metadata": {},
   "outputs": [],
   "source": [
    "x = range(1, 20)\n",
    "y = [n**2 for n in x]\n",
    "print(x)\n",
    "print(y)"
   ]
  },
  {
   "cell_type": "code",
   "execution_count": null,
   "id": "00ad17f9",
   "metadata": {},
   "outputs": [],
   "source": [
    "plt.scatter(x,y)"
   ]
  },
  {
   "cell_type": "code",
   "execution_count": null,
   "id": "cc0274d5",
   "metadata": {},
   "outputs": [],
   "source": [
    "plt.bar(x,y)"
   ]
  },
  {
   "cell_type": "markdown",
   "id": "6e4c71dc",
   "metadata": {},
   "source": [
    "## Import our own code\n",
    "\n",
    "- write a .py script and save in a folder. name it module.py\n",
    "- create another .py or notebook in same folder >> self contained project\n",
    "- in new file, import file name/ module name"
   ]
  },
  {
   "cell_type": "code",
   "execution_count": null,
   "id": "ef50f0f1",
   "metadata": {},
   "outputs": [],
   "source": [
    "import import_example"
   ]
  },
  {
   "cell_type": "code",
   "execution_count": null,
   "id": "fc43f0cf",
   "metadata": {},
   "outputs": [],
   "source": [
    "import_example.add(2, 3)"
   ]
  },
  {
   "cell_type": "code",
   "execution_count": null,
   "id": "16175092",
   "metadata": {},
   "outputs": [],
   "source": []
  },
  {
   "cell_type": "markdown",
   "id": "5c29ed04",
   "metadata": {},
   "source": [
    "## Conditional \n",
    "\n",
    "if __name__== '__main__':\n",
    "\n",
    "condition to run the input statements >> breaks you out of the jupyter notebook incorrect feedback loop\n",
    "\n",
    "useful to not run the extra pieces of code\n",
    "\n",
    "assert (2,3) == 5 >> better way to check code >> \"automated test ran appropriately\""
   ]
  },
  {
   "cell_type": "markdown",
   "id": "f13028aa",
   "metadata": {},
   "source": [
    "## Exercises\n",
    "\n",
    "\n"
   ]
  },
  {
   "cell_type": "markdown",
   "id": "20453e63",
   "metadata": {},
   "source": [
    "1. C. Create a jupyter notebook named import_exercises.ipynb. Use from to import the get_letter_grade function and give it an alias. Test this function in your notebook."
   ]
  },
  {
   "cell_type": "code",
   "execution_count": 1,
   "id": "006ca8bc",
   "metadata": {},
   "outputs": [
    {
     "name": "stdout",
     "output_type": "stream",
     "text": [
      "Coffee\n",
      "80.0\n",
      "1234\n",
      "B\n",
      "lbb\n",
      "hrvey_dollz\n",
      "B\n"
     ]
    }
   ],
   "source": [
    "from function_exercises import get_letter_grade as grades_function\n",
    "print(grades_function(84))"
   ]
  },
  {
   "cell_type": "markdown",
   "id": "0ac953a0",
   "metadata": {},
   "source": [
    "2. A. How many different ways can you combine the letters from \"abc\" with the numbers 1, 2, and 3? (order doesn't matter in combinations, ba = ab)"
   ]
  },
  {
   "cell_type": "code",
   "execution_count": 47,
   "id": "22a66460",
   "metadata": {},
   "outputs": [
    {
     "data": {
      "text/plain": [
       "[('a', '1'),\n",
       " ('a', '2'),\n",
       " ('a', '3'),\n",
       " ('b', '1'),\n",
       " ('b', '2'),\n",
       " ('b', '3'),\n",
       " ('c', '1'),\n",
       " ('c', '2'),\n",
       " ('c', '3')]"
      ]
     },
     "execution_count": 47,
     "metadata": {},
     "output_type": "execute_result"
    }
   ],
   "source": [
    "import itertools ## import the itertools package\n",
    "# 2. A. instructor solution\n",
    "list(itertools.product('abc', '123'))\n",
    "\n"
   ]
  },
  {
   "cell_type": "code",
   "execution_count": 34,
   "id": "2dd0d6e3",
   "metadata": {},
   "outputs": [
    {
     "name": "stdout",
     "output_type": "stream",
     "text": [
      "[[('a', 'b'), ('a', 'c'), ('a', '1'), ('a', '2'), ('a', '3'), ('b', 'c'), ('b', '1'), ('b', '2'), ('b', '3'), ('c', '1'), ('c', '2'), ('c', '3'), ('1', '2'), ('1', '3'), ('2', '3')], [('a', 'b'), ('a', 'c'), ('a', '1'), ('a', '2'), ('a', '3'), ('b', 'c'), ('b', '1'), ('b', '2'), ('b', '3'), ('c', '1'), ('c', '2'), ('c', '3'), ('1', '2'), ('1', '3'), ('2', '3')], [('a', 'b'), ('a', 'c'), ('a', '1'), ('a', '2'), ('a', '3'), ('b', 'c'), ('b', '1'), ('b', '2'), ('b', '3'), ('c', '1'), ('c', '2'), ('c', '3'), ('1', '2'), ('1', '3'), ('2', '3')], [('a', 'b'), ('a', 'c'), ('a', '1'), ('a', '2'), ('a', '3'), ('b', 'c'), ('b', '1'), ('b', '2'), ('b', '3'), ('c', '1'), ('c', '2'), ('c', '3'), ('1', '2'), ('1', '3'), ('2', '3')], [('a', 'b'), ('a', 'c'), ('a', '1'), ('a', '2'), ('a', '3'), ('b', 'c'), ('b', '1'), ('b', '2'), ('b', '3'), ('c', '1'), ('c', '2'), ('c', '3'), ('1', '2'), ('1', '3'), ('2', '3')], [('a', 'b'), ('a', 'c'), ('a', '1'), ('a', '2'), ('a', '3'), ('b', 'c'), ('b', '1'), ('b', '2'), ('b', '3'), ('c', '1'), ('c', '2'), ('c', '3'), ('1', '2'), ('1', '3'), ('2', '3')]]\n"
     ]
    }
   ],
   "source": [
    "import itertools ## import the itertools package\n",
    "## My solution\n",
    "\n",
    "letr_num = 'abc123' ## name the input as a list\n",
    "\n",
    "letr_num_combo = [] ## create empty list to store the output from the func\n",
    "\n",
    "for char in letr_num:\n",
    "    letr_num_combo.append(list(itertools.combinations(letr_num, 2)))\n",
    "    \n",
    "print(letr_num_combo)"
   ]
  },
  {
   "cell_type": "markdown",
   "id": "d9a5abfa",
   "metadata": {},
   "source": [
    "2. B. How many different combinations are there of 2 letters from \"abcd\"?"
   ]
  },
  {
   "cell_type": "code",
   "execution_count": 45,
   "id": "7a171035",
   "metadata": {},
   "outputs": [
    {
     "name": "stdout",
     "output_type": "stream",
     "text": [
      "[[('a', 'b'), ('a', 'c'), ('a', 'd'), ('b', 'c'), ('b', 'd'), ('c', 'd')], [('a', 'b'), ('a', 'c'), ('a', 'd'), ('b', 'c'), ('b', 'd'), ('c', 'd')], [('a', 'b'), ('a', 'c'), ('a', 'd'), ('b', 'c'), ('b', 'd'), ('c', 'd')], [('a', 'b'), ('a', 'c'), ('a', 'd'), ('b', 'c'), ('b', 'd'), ('c', 'd')]]\n"
     ]
    }
   ],
   "source": [
    "import itertools ## import the itertools package\n",
    "\n",
    "letters = 'abcd' ## name the input as a list\n",
    "\n",
    "letters_combo = [] ## create empty list to store the output from the func\n",
    "\n",
    "# combo_count = 0\n",
    "\n",
    "for char in letters:\n",
    "    letters_combo.append(list(itertools.combinations(letters, 2)))\n",
    "    \n",
    "# for combo in letters_combo:\n",
    "#     combo_count += 1\n",
    "#     return combo_count\n",
    "    \n",
    "print(letters_combo)\n",
    "#print(combo_count)"
   ]
  },
  {
   "cell_type": "markdown",
   "id": "63a327f7",
   "metadata": {},
   "source": [
    "2.C. How many different permutations are there of 2 letters from \"abcd\"?"
   ]
  },
  {
   "cell_type": "code",
   "execution_count": 48,
   "id": "c97c7227",
   "metadata": {},
   "outputs": [
    {
     "data": {
      "text/plain": [
       "[('a', 'b'),\n",
       " ('a', 'c'),\n",
       " ('a', 'd'),\n",
       " ('b', 'a'),\n",
       " ('b', 'c'),\n",
       " ('b', 'd'),\n",
       " ('c', 'a'),\n",
       " ('c', 'b'),\n",
       " ('c', 'd'),\n",
       " ('d', 'a'),\n",
       " ('d', 'b'),\n",
       " ('d', 'c')]"
      ]
     },
     "execution_count": 48,
     "metadata": {},
     "output_type": "execute_result"
    }
   ],
   "source": [
    "list(itertools.permutations('abcd', 2))"
   ]
  },
  {
   "cell_type": "code",
   "execution_count": null,
   "id": "1f31a661",
   "metadata": {},
   "outputs": [],
   "source": []
  }
 ],
 "metadata": {
  "kernelspec": {
   "display_name": "Python 3 (ipykernel)",
   "language": "python",
   "name": "python3"
  },
  "language_info": {
   "codemirror_mode": {
    "name": "ipython",
    "version": 3
   },
   "file_extension": ".py",
   "mimetype": "text/x-python",
   "name": "python",
   "nbconvert_exporter": "python",
   "pygments_lexer": "ipython3",
   "version": "3.9.7"
  }
 },
 "nbformat": 4,
 "nbformat_minor": 5
}
