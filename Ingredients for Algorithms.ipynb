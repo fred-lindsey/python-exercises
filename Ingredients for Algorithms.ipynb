{
 "cells": [
  {
   "cell_type": "markdown",
   "id": "d596aa1c",
   "metadata": {},
   "source": [
    "## Ingredients for Algorithms\n",
    "**deterministic systems\n",
    "The \"Big 3 in any language\": 3 ingredients of algorithms:\n",
    "\n",
    "Algorithm -  a formalized sequence of steps to solve a problem\n",
    "- calculating the average of a list of numbers\n",
    "- Turbotax runs algorithms to determine tax refunds\n",
    "\n",
    "## 3 Parts\n",
    "- Sequence:\n",
    "- Selection\n",
    "- Iteration\n",
    "\n",
    "## Sequence\n",
    "- order of operations >> PEMDAS, order of logic (use parenthesis to make order concrete), code runs from to to bottom\n",
    "- \"the order of the recipe in our algorithm\"\n",
    "- FUNCTIONS: run inside out>> increment(increment(1)) = 2\n",
    "- method.run() from().left().to().right()\n",
    "- methods are functions that live on objects\n",
    "- the function will run on top of the methods underneath it, which have been applied to the object(list/str/etc)\n",
    "- methods only create a copy, unless the output is assigned to a variable\n",
    "- >> string.trip() >> input = string.strip()\n",
    "- reutrn is also reassigning"
   ]
  },
  {
   "cell_type": "code",
   "execution_count": null,
   "id": "2af2d98c",
   "metadata": {},
   "outputs": [],
   "source": [
    "beatles = 'John, Paul, George, Ringo'\n",
    "beatles.lower().swapcase() ##take string, lowercase string, upppercase str\n",
    "# these methods run from left to right, then a function runs on top"
   ]
  },
  {
   "cell_type": "markdown",
   "id": "6c831e47",
   "metadata": {},
   "source": [
    "## Selection\n",
    "- Selecting what runs\n",
    "- conditionals, like: if/else conditions\n",
    ">> with selection we control what runs, what doesn't\n",
    "- if/else is a \"fork\" in the road\n",
    "- \"if\" on its own is a side quest\n",
    "- when to use if?:\n",
    ">> when you need the code to answer a question\n",
    ">> if you feel stuck and \"I need the code to check something\"\n",
    ">> selection is boolean evaluation fundamentally\n"
   ]
  },
  {
   "cell_type": "code",
   "execution_count": null,
   "id": "e6938c61",
   "metadata": {},
   "outputs": [],
   "source": [
    "##example\n",
    "if stop_light_color == \"green\":\n",
    "    proceed_safely()\n",
    "elif stop_light_color == \"red\":\n",
    "    come_to_a_full_and_complete_stop()\n",
    "elif stop_light_color == \"yellow\":\n",
    "    if you_can_make-it_through_safely:\n",
    "        proceed()\n",
    "    else:\n",
    "        come_to_a_full_and_complete_stop()\n",
    "else:\n",
    "    joy_ride()\n",
    "    "
   ]
  },
  {
   "cell_type": "markdown",
   "id": "09750e82",
   "metadata": {},
   "source": [
    "## Iteration\n",
    "- over and over again\n",
    "- how we repeat code\n",
    "- tools for iteration:\n",
    "    - while loops (less used)\n",
    "    >> user inputs\n",
    "    >> **but, potential for infinite loops**\n",
    "    >> good for rejecting data types that are not acceptable\n"
   ]
  },
  {
   "cell_type": "code",
   "execution_count": 1,
   "id": "3f3fdc40",
   "metadata": {},
   "outputs": [
    {
     "name": "stdout",
     "output_type": "stream",
     "text": [
      "3\n",
      "5\n"
     ]
    }
   ],
   "source": [
    "numbers = [ 1, 2, 3, 4, 5]\n",
    "\n",
    "for n in numbers:\n",
    "    if n % 2 == 0:\n",
    "        print(n+1)"
   ]
  },
  {
   "cell_type": "markdown",
   "id": "221a080d",
   "metadata": {},
   "source": [
    "## How to Solve Looping Problems\n",
    "- one weird trick to solving looping problems: blow off the loop\n",
    "- Why?\n",
    "    - simplify problem (cognitive overhead)\n",
    "    - good for morale to solve simpler problem\n",
    "    - create momentum by solving many smaller problems"
   ]
  },
  {
   "cell_type": "code",
   "execution_count": null,
   "id": "dddad7dc",
   "metadata": {},
   "outputs": [],
   "source": [
    "# what's the average of all student grades\n",
    "# 1. blow off the loop\n",
    "# 2. create a singular variable that holds the first item on the list\n",
    "student = students[0]\n",
    "# 3. what is the question asking about? grades\n",
    "# 4. plan out the solution with one singular case\n",
    "# 5. I know I need a list to hold all grades\n",
    "all_grades = []\n",
    "# 6. let's iterate through the list of student grades, add them to overall \n",
    "# list of grades, then calculate sum(grades)/len(grades) for avg\n",
    "for grade in student[\"grades\"]:\n",
    "    all_grades.append(grade)\n",
    "    \n",
    "all_grades\n"
   ]
  },
  {
   "cell_type": "code",
   "execution_count": null,
   "id": "f9fc4f24",
   "metadata": {},
   "outputs": [],
   "source": [
    "sum(all_grades)/len(all_grades)"
   ]
  },
  {
   "cell_type": "code",
   "execution_count": null,
   "id": "b5237c5f",
   "metadata": {},
   "outputs": [],
   "source": [
    "# now that you have a solution for one item on the list\n",
    "# we can bring that loop back\n",
    "\n",
    "all_grades = []\n",
    "\n",
    "for student in students:\n",
    "    for grade in student[\"grades\"]:\n",
    "        all_grades.append(grade)\n",
    "\n",
    "print(all_grades)\n",
    "print(sum(all_grades)/len(all_grades))\n",
    "\n",
    "\n",
    "# it's helpful to start a counter at 0 for a counting exercise\n",
    "# += len(student[\"pets\"])\n"
   ]
  }
 ],
 "metadata": {
  "kernelspec": {
   "display_name": "Python 3 (ipykernel)",
   "language": "python",
   "name": "python3"
  },
  "language_info": {
   "codemirror_mode": {
    "name": "ipython",
    "version": 3
   },
   "file_extension": ".py",
   "mimetype": "text/x-python",
   "name": "python",
   "nbconvert_exporter": "python",
   "pygments_lexer": "ipython3",
   "version": "3.9.7"
  }
 },
 "nbformat": 4,
 "nbformat_minor": 5
}
